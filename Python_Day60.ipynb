{
 "cells": [
  {
   "cell_type": "markdown",
   "metadata": {},
   "source": [
    "# Important Instructions"
   ]
  },
  {
   "cell_type": "markdown",
   "metadata": {},
   "source": [
    "###### I hope you enjoyed Python classes and have built a good foundation for the logic involved. Now lets solve a few intresting questions to see what kind of logic you can come up with :)"
   ]
  },
  {
   "cell_type": "markdown",
   "metadata": {},
   "source": [
    "###### Create an abstract class called Vehicle that should have abstract methods drive and refuel. Create 2 vehicles that inherit the Vehicle class (a Car and a Truck) and simulates driving and refueling them.Car and Truck both have fuel_quantity, fuel_consumption in liters per km and can be driven a given distance: drive(distance) and refueled with a given amount of fuel: refuel(fuel). It is summer, so both vehicles use air conditioners and their fuel consumption per km when driving is increased by 0.9 liters for the car and with 1.6 liters for the truck.Also, the Truck has a tiny hole in its tank and when it’s refueled it keeps only 95% of the given fuel. The car has no problems and adds all the given fuel to its tank. If a vehicle cannot travel the given distance, its fuel does not change.And the tests that should work with it are these ones:\n",
    "\n",
    "Sample Input:\n",
    "\n",
    "car = Car(20, 5)\n",
    "\n",
    "car.drive(3)\n",
    "\n",
    "print(car.fuel_quantity)\n",
    "\n",
    "car.refuel(10)\n",
    "\n",
    "print(car.fuel_quantity)\t\n",
    "\n",
    "truck = Truck(100, 15)\n",
    "\n",
    "truck.drive(5)\n",
    "\n",
    "print(truck.fuel_quantity)\n",
    "\n",
    "truck.refuel(50)\n",
    "\n",
    "print(truck.fuel_quantity)\t\n",
    "\n",
    "\n",
    "\n",
    "Sample Output:\n",
    "\n",
    "2.299999999999997\n",
    "\n",
    "12.299999999999997\n",
    "\n",
    "17.0\t\n",
    "\n",
    "64.5\n"
   ]
  },
  {
   "cell_type": "code",
   "execution_count": null,
   "metadata": {},
   "outputs": [],
   "source": []
  }
 ],
 "metadata": {
  "kernelspec": {
   "display_name": "Python 3",
   "language": "python",
   "name": "python3"
  },
  "language_info": {
   "codemirror_mode": {
    "name": "ipython",
    "version": 3
   },
   "file_extension": ".py",
   "mimetype": "text/x-python",
   "name": "python",
   "nbconvert_exporter": "python",
   "pygments_lexer": "ipython3",
   "version": "3.7.3"
  }
 },
 "nbformat": 4,
 "nbformat_minor": 4
}
