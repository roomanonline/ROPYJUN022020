{
 "cells": [
  {
   "cell_type": "markdown",
   "metadata": {},
   "source": [
    "# Important Instructions"
   ]
  },
  {
   "cell_type": "markdown",
   "metadata": {},
   "source": [
    "###### I hope you enjoyed Python classes and have built a good foundation for the logic involved. Now lets solve a few intresting questions to see what kind of logic you can come up with :)¶"
   ]
  },
  {
   "cell_type": "markdown",
   "metadata": {},
   "source": [
    "###### 1) Define a function named alpha() and beta(), and write a script in which function alpha() calls beta() and beta() will validate the age of a person, if age is <=18 then raise ValueError Exception which is handled in beta() after handling the exception propagate the same exception to alpha(),where alpha() has to handle the exception propagated from beta(). \n",
    "\n",
    "<b>Sample Input/Output</b>\n",
    "\n",
    "Execution started in Alpha\n",
    "\n",
    "Execution started in Beta\n",
    "\n",
    "Enter name : Raj\n",
    "\n",
    "Enter age:22\n",
    "\n",
    "Execution stopped in Beta\n",
    "\n",
    "Execution stopped in Alpha\n",
    "\n",
    "<b>Sample Input/Output</b>\n",
    "\n",
    "Execution started in Alpha\n",
    "\n",
    "Execution started in Beta\n",
    "\n",
    "Enter name : Raj\n",
    "\n",
    "Enter age:18\n",
    "\n",
    "Age is less than 18\n",
    "\n",
    "Exception Handled in Beta\n",
    "\n",
    "Exception Handled in Alpha\n",
    "\n",
    "Execution stopped in Alpha\n"
   ]
  },
  {
   "cell_type": "code",
   "execution_count": null,
   "metadata": {},
   "outputs": [],
   "source": []
  },
  {
   "cell_type": "markdown",
   "metadata": {},
   "source": [
    "###### 2) Define a function named alpha(),gamma() and beta(), and write a script in which function alpha() calls gamma() and gamma() calls beta() where beta() will validate the the type of input : if the type is not integer then raise TypeError Exception which is handled in beta() after handling the exception propagate the same exception to alpha(),where alpha() has to handle the exception propagated from beta() and prove that exception propagated can be handled in any caller methods present in the stack hierarchy.\n",
    "\n",
    "<b>Sample Input/Output</b>\n",
    "\n",
    "Execution started in Alpha\n",
    "\n",
    "Execution started in Gamma\n",
    "\n",
    "Execution started in Beta\n",
    "\n",
    "Enter Input:2\n",
    "\n",
    "Execution stopped in Beta\n",
    "\n",
    "Execution stopped in Gamma\n",
    "\n",
    "Execution stopped in Alpha\n",
    "\n",
    "<b>Sample Input/Output</b>\n",
    "\n",
    "Execution started in Alpha\n",
    "\n",
    "Execution started in Gamma\n",
    "\n",
    "Execution started in Beta\n",
    "\n",
    "Enter Input: a\n",
    "\n",
    "Value Entered is not integer\n",
    "\n",
    "Exception Handled in Beta\n",
    "\n",
    "Exception Handled in Alpha\n",
    "\n",
    "Execution stopped in Alpha\n"
   ]
  },
  {
   "cell_type": "code",
   "execution_count": null,
   "metadata": {},
   "outputs": [],
   "source": []
  }
 ],
 "metadata": {
  "kernelspec": {
   "display_name": "Python 3",
   "language": "python",
   "name": "python3"
  },
  "language_info": {
   "codemirror_mode": {
    "name": "ipython",
    "version": 3
   },
   "file_extension": ".py",
   "mimetype": "text/x-python",
   "name": "python",
   "nbconvert_exporter": "python",
   "pygments_lexer": "ipython3",
   "version": "3.7.3"
  }
 },
 "nbformat": 4,
 "nbformat_minor": 4
}
