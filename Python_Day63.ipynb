{
 "cells": [
  {
   "cell_type": "markdown",
   "metadata": {},
   "source": [
    "# Important Instructions"
   ]
  },
  {
   "cell_type": "markdown",
   "metadata": {},
   "source": [
    "###### I hope you enjoyed Python classes and have built a good foundation for the logic involved. Now lets solve a few intresting questions to see what kind of logic you can come up with :)"
   ]
  },
  {
   "cell_type": "markdown",
   "metadata": {},
   "source": [
    "#### Define three function named alpha(), beta() and gamma(), where beta() is called inside alpha() and gamma() is called inside Beta()."
   ]
  },
  {
   "cell_type": "markdown",
   "metadata": {},
   "source": [
    "###### a)\tWrite a script to generates KeyError inside gamma() in which KeyError Exception is handled in Beta().\n",
    "\n",
    "<b>Sample Output:</b>\n",
    "\n",
    "Alpha Started Execution \n",
    "\n",
    "Beta Started Execution \n",
    "\n",
    "Gamma Started Execution\n",
    "\n",
    "Key not found\n",
    "\n",
    "Beta Stopped Execution\n",
    "\n",
    "Alpha Stopped Execution\n"
   ]
  },
  {
   "cell_type": "code",
   "execution_count": null,
   "metadata": {},
   "outputs": [],
   "source": []
  },
  {
   "cell_type": "markdown",
   "metadata": {},
   "source": [
    "###### b)\tInstead of calling gamma(), alpha() calls function gama() which leads to NameError, Write a script to handle the NameError inside alpha().\n",
    "\n",
    "<b>Sample Output:</b>\n",
    "\n",
    "Alpha Started Execution \n",
    "\n",
    "Beta Started Execution \n",
    "\n",
    "Gama Name not found\n",
    "\n",
    "Alpha Stopped Execution\n"
   ]
  },
  {
   "cell_type": "code",
   "execution_count": null,
   "metadata": {},
   "outputs": [],
   "source": []
  }
 ],
 "metadata": {
  "kernelspec": {
   "display_name": "Python 3",
   "language": "python",
   "name": "python3"
  },
  "language_info": {
   "codemirror_mode": {
    "name": "ipython",
    "version": 3
   },
   "file_extension": ".py",
   "mimetype": "text/x-python",
   "name": "python",
   "nbconvert_exporter": "python",
   "pygments_lexer": "ipython3",
   "version": "3.7.3"
  }
 },
 "nbformat": 4,
 "nbformat_minor": 4
}
