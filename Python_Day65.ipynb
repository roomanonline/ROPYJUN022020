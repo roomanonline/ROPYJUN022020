{
 "cells": [
  {
   "cell_type": "markdown",
   "metadata": {},
   "source": [
    "# Important Instructions"
   ]
  },
  {
   "cell_type": "markdown",
   "metadata": {},
   "source": [
    "###### I hope you enjoyed Python classes and have built a good foundation for the logic involved. Now lets solve a few intresting questions to see what kind of logic you can come up with :)"
   ]
  },
  {
   "cell_type": "markdown",
   "metadata": {},
   "source": [
    "#### 1)\tGuessing Number [Correct Number is 7]"
   ]
  },
  {
   "cell_type": "markdown",
   "metadata": {},
   "source": [
    "#### Create 2 user defined exception class namely Small_ValueError and Large_ValueError in which ,\n",
    "#### if the user inputs lesser number than the correct number ,raise Small_ValueError Exception \n",
    "#### if the user inputs larger number than the correct number , raise Large_ValueError Exception .\n",
    "#### Write a script which allows user to guess the correct number and print the number of attempts made to guess the number.\n",
    "\n",
    "<b>Sample Input/Output:</b>\n",
    "\n",
    "Enter the number: 9\n",
    "\n",
    "You Entered large number, please try again\n",
    "\n",
    "Enter the number: 2\n",
    "\n",
    "You Entered small number, please try again\n",
    "\n",
    "Enter the number: 6\n",
    "\n",
    "You Entered small number, please try again\n",
    "\n",
    "Enter the number: 10\n",
    "\n",
    "You Entered large number, please try again\n",
    "\n",
    "Enter the number: 7\n",
    "\n",
    "You Entered correct number!! in  5 Attempts\n"
   ]
  },
  {
   "cell_type": "code",
   "execution_count": null,
   "metadata": {},
   "outputs": [],
   "source": []
  },
  {
   "cell_type": "markdown",
   "metadata": {},
   "source": [
    "#### 2) Banker ATM application \n",
    "\n",
    "#### ATM consists of three options deposit amount, withdraw amount and balance_enquiry where users can deposit amount , withdraw amount and know the available balance.\n",
    "\n",
    "#### Write a script to define a custom Exception class named Insufficient_balanceError which handles the Insufficient_balance problem when user tries to withdraw amount more than the available balance as shown below.\n",
    "\n",
    "#### Sample Input/Output:\n",
    "\n",
    "Hello!!! Welcome to the Deposit & Withdrawal Machine\n",
    "\n",
    "Enter amount to be Deposited: 5000\n",
    "\n",
    "Amount Deposited: 5000.0\n",
    "\n",
    "Enter amount to be Withdrawn: 2000\n",
    "\n",
    "You Withdrew: 2000.0\n",
    " \n",
    "Net Available Balance= 3000.0\n",
    "\n",
    "#### Sample Input/Output:\n",
    "\n",
    "Hello!!! Welcome to the Deposit & Withdrawal Machine\n",
    "\n",
    "Enter amount to be Deposited: 2000\n",
    "\n",
    "Amount Deposited: 2000.0\n",
    "\n",
    "Enter amount to be Withdrawn: 3000\n",
    "\n",
    "('Insufficient balance:', 2000.0)\n",
    "\n",
    "Net Available Balance= 2000.0\n"
   ]
  },
  {
   "cell_type": "code",
   "execution_count": null,
   "metadata": {},
   "outputs": [],
   "source": []
  }
 ],
 "metadata": {
  "kernelspec": {
   "display_name": "Python 3",
   "language": "python",
   "name": "python3"
  },
  "language_info": {
   "codemirror_mode": {
    "name": "ipython",
    "version": 3
   },
   "file_extension": ".py",
   "mimetype": "text/x-python",
   "name": "python",
   "nbconvert_exporter": "python",
   "pygments_lexer": "ipython3",
   "version": "3.7.3"
  }
 },
 "nbformat": 4,
 "nbformat_minor": 4
}
